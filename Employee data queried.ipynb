{
 "cells": [
  {
   "cell_type": "code",
   "execution_count": 107,
   "id": "1621509a-b519-443c-ab80-8e5b361eab0e",
   "metadata": {},
   "outputs": [],
   "source": [
    "import pandas as pd\n",
    "import numpy as np\n",
    "import seaborn as sns\n",
    "import matplotlib.pyplot as plt\n",
    "from datetime import datetime"
   ]
  },
  {
   "cell_type": "code",
   "execution_count": 10,
   "id": "54ab8a43-6618-41bd-ad5e-720132a31386",
   "metadata": {},
   "outputs": [],
   "source": [
    "df = pd.read_csv(r\"C:\\Users\\LENOVO\\Desktop\\BR\\employee_data.csv\")"
   ]
  },
  {
   "cell_type": "code",
   "execution_count": 15,
   "id": "c496e515-9ce7-44c6-b13f-4b408bb9bad7",
   "metadata": {},
   "outputs": [
    {
     "data": {
      "text/html": [
       "<div>\n",
       "<style scoped>\n",
       "    .dataframe tbody tr th:only-of-type {\n",
       "        vertical-align: middle;\n",
       "    }\n",
       "\n",
       "    .dataframe tbody tr th {\n",
       "        vertical-align: top;\n",
       "    }\n",
       "\n",
       "    .dataframe thead th {\n",
       "        text-align: right;\n",
       "    }\n",
       "</style>\n",
       "<table border=\"1\" class=\"dataframe\">\n",
       "  <thead>\n",
       "    <tr style=\"text-align: right;\">\n",
       "      <th></th>\n",
       "      <th>EmpID</th>\n",
       "      <th>FirstName</th>\n",
       "      <th>LastName</th>\n",
       "      <th>StartDate</th>\n",
       "      <th>ExitDate</th>\n",
       "      <th>Title</th>\n",
       "      <th>Supervisor</th>\n",
       "      <th>ADEmail</th>\n",
       "      <th>BusinessUnit</th>\n",
       "      <th>EmployeeStatus</th>\n",
       "      <th>...</th>\n",
       "      <th>Division</th>\n",
       "      <th>DOB</th>\n",
       "      <th>State</th>\n",
       "      <th>JobFunctionDescription</th>\n",
       "      <th>GenderCode</th>\n",
       "      <th>LocationCode</th>\n",
       "      <th>RaceDesc</th>\n",
       "      <th>MaritalDesc</th>\n",
       "      <th>Performance Score</th>\n",
       "      <th>Current Employee Rating</th>\n",
       "    </tr>\n",
       "  </thead>\n",
       "  <tbody>\n",
       "    <tr>\n",
       "      <th>0</th>\n",
       "      <td>3427</td>\n",
       "      <td>Uriah</td>\n",
       "      <td>Bridges</td>\n",
       "      <td>20-Sep-19</td>\n",
       "      <td>NaN</td>\n",
       "      <td>Production Technician I</td>\n",
       "      <td>Peter Oneill</td>\n",
       "      <td>uriah.bridges@bilearner.com</td>\n",
       "      <td>CCDR</td>\n",
       "      <td>Active</td>\n",
       "      <td>...</td>\n",
       "      <td>Finance &amp; Accounting</td>\n",
       "      <td>07-10-1969</td>\n",
       "      <td>MA</td>\n",
       "      <td>Accounting</td>\n",
       "      <td>Female</td>\n",
       "      <td>34904</td>\n",
       "      <td>White</td>\n",
       "      <td>Widowed</td>\n",
       "      <td>Fully Meets</td>\n",
       "      <td>4</td>\n",
       "    </tr>\n",
       "    <tr>\n",
       "      <th>1</th>\n",
       "      <td>3428</td>\n",
       "      <td>Paula</td>\n",
       "      <td>Small</td>\n",
       "      <td>11-Feb-23</td>\n",
       "      <td>NaN</td>\n",
       "      <td>Production Technician I</td>\n",
       "      <td>Renee Mccormick</td>\n",
       "      <td>paula.small@bilearner.com</td>\n",
       "      <td>EW</td>\n",
       "      <td>Active</td>\n",
       "      <td>...</td>\n",
       "      <td>Aerial</td>\n",
       "      <td>30-08-1965</td>\n",
       "      <td>MA</td>\n",
       "      <td>Labor</td>\n",
       "      <td>Male</td>\n",
       "      <td>6593</td>\n",
       "      <td>Hispanic</td>\n",
       "      <td>Widowed</td>\n",
       "      <td>Fully Meets</td>\n",
       "      <td>3</td>\n",
       "    </tr>\n",
       "    <tr>\n",
       "      <th>2</th>\n",
       "      <td>3429</td>\n",
       "      <td>Edward</td>\n",
       "      <td>Buck</td>\n",
       "      <td>10-Dec-18</td>\n",
       "      <td>NaN</td>\n",
       "      <td>Area Sales Manager</td>\n",
       "      <td>Crystal Walker</td>\n",
       "      <td>edward.buck@bilearner.com</td>\n",
       "      <td>PL</td>\n",
       "      <td>Active</td>\n",
       "      <td>...</td>\n",
       "      <td>General - Sga</td>\n",
       "      <td>06-10-1991</td>\n",
       "      <td>MA</td>\n",
       "      <td>Assistant</td>\n",
       "      <td>Male</td>\n",
       "      <td>2330</td>\n",
       "      <td>Hispanic</td>\n",
       "      <td>Widowed</td>\n",
       "      <td>Fully Meets</td>\n",
       "      <td>4</td>\n",
       "    </tr>\n",
       "    <tr>\n",
       "      <th>3</th>\n",
       "      <td>3430</td>\n",
       "      <td>Michael</td>\n",
       "      <td>Riordan</td>\n",
       "      <td>21-Jun-21</td>\n",
       "      <td>NaN</td>\n",
       "      <td>Area Sales Manager</td>\n",
       "      <td>Rebekah Wright</td>\n",
       "      <td>michael.riordan@bilearner.com</td>\n",
       "      <td>CCDR</td>\n",
       "      <td>Active</td>\n",
       "      <td>...</td>\n",
       "      <td>Finance &amp; Accounting</td>\n",
       "      <td>04-04-1998</td>\n",
       "      <td>ND</td>\n",
       "      <td>Clerk</td>\n",
       "      <td>Male</td>\n",
       "      <td>58782</td>\n",
       "      <td>Other</td>\n",
       "      <td>Single</td>\n",
       "      <td>Fully Meets</td>\n",
       "      <td>2</td>\n",
       "    </tr>\n",
       "    <tr>\n",
       "      <th>4</th>\n",
       "      <td>3431</td>\n",
       "      <td>Jasmine</td>\n",
       "      <td>Onque</td>\n",
       "      <td>29-Jun-19</td>\n",
       "      <td>NaN</td>\n",
       "      <td>Area Sales Manager</td>\n",
       "      <td>Jason Kim</td>\n",
       "      <td>jasmine.onque@bilearner.com</td>\n",
       "      <td>TNS</td>\n",
       "      <td>Active</td>\n",
       "      <td>...</td>\n",
       "      <td>General - Con</td>\n",
       "      <td>29-08-1969</td>\n",
       "      <td>FL</td>\n",
       "      <td>Laborer</td>\n",
       "      <td>Female</td>\n",
       "      <td>33174</td>\n",
       "      <td>Other</td>\n",
       "      <td>Married</td>\n",
       "      <td>Fully Meets</td>\n",
       "      <td>3</td>\n",
       "    </tr>\n",
       "  </tbody>\n",
       "</table>\n",
       "<p>5 rows × 26 columns</p>\n",
       "</div>"
      ],
      "text/plain": [
       "   EmpID FirstName LastName  StartDate ExitDate                    Title  \\\n",
       "0   3427     Uriah  Bridges  20-Sep-19      NaN  Production Technician I   \n",
       "1   3428     Paula    Small  11-Feb-23      NaN  Production Technician I   \n",
       "2   3429    Edward     Buck  10-Dec-18      NaN       Area Sales Manager   \n",
       "3   3430   Michael  Riordan  21-Jun-21      NaN       Area Sales Manager   \n",
       "4   3431   Jasmine    Onque  29-Jun-19      NaN       Area Sales Manager   \n",
       "\n",
       "        Supervisor                        ADEmail BusinessUnit EmployeeStatus  \\\n",
       "0     Peter Oneill    uriah.bridges@bilearner.com         CCDR         Active   \n",
       "1  Renee Mccormick      paula.small@bilearner.com           EW         Active   \n",
       "2   Crystal Walker      edward.buck@bilearner.com           PL         Active   \n",
       "3   Rebekah Wright  michael.riordan@bilearner.com         CCDR         Active   \n",
       "4        Jason Kim    jasmine.onque@bilearner.com          TNS         Active   \n",
       "\n",
       "   ...              Division         DOB State JobFunctionDescription  \\\n",
       "0  ...  Finance & Accounting  07-10-1969    MA             Accounting   \n",
       "1  ...                Aerial  30-08-1965    MA                  Labor   \n",
       "2  ...         General - Sga  06-10-1991    MA              Assistant   \n",
       "3  ...  Finance & Accounting  04-04-1998    ND                  Clerk   \n",
       "4  ...         General - Con  29-08-1969    FL                Laborer   \n",
       "\n",
       "  GenderCode LocationCode  RaceDesc MaritalDesc Performance Score  \\\n",
       "0     Female        34904     White     Widowed       Fully Meets   \n",
       "1       Male         6593  Hispanic     Widowed       Fully Meets   \n",
       "2       Male         2330  Hispanic     Widowed       Fully Meets   \n",
       "3       Male        58782     Other      Single       Fully Meets   \n",
       "4     Female        33174     Other     Married       Fully Meets   \n",
       "\n",
       "  Current Employee Rating  \n",
       "0                       4  \n",
       "1                       3  \n",
       "2                       4  \n",
       "3                       2  \n",
       "4                       3  \n",
       "\n",
       "[5 rows x 26 columns]"
      ]
     },
     "execution_count": 15,
     "metadata": {},
     "output_type": "execute_result"
    }
   ],
   "source": [
    "df.head()"
   ]
  },
  {
   "cell_type": "code",
   "execution_count": null,
   "id": "593daea1-381d-4bb6-90cb-43f43688b4d4",
   "metadata": {},
   "outputs": [],
   "source": [
    "## How many employees are currently active vs terminated?"
   ]
  },
  {
   "cell_type": "code",
   "execution_count": 21,
   "id": "95b6f02f-9a77-46cc-86ee-dd9df9b07921",
   "metadata": {},
   "outputs": [],
   "source": [
    "pd.set_option('display.max_columns', None)"
   ]
  },
  {
   "cell_type": "code",
   "execution_count": 27,
   "id": "9386728b-c75a-4eff-81cd-f3887c17087c",
   "metadata": {},
   "outputs": [
    {
     "data": {
      "text/plain": [
       "EmployeeStatus\n",
       "Active                    2458\n",
       "Voluntarily Terminated     321\n",
       "Terminated for Cause        66\n",
       "Name: count, dtype: int64"
      ]
     },
     "execution_count": 27,
     "metadata": {},
     "output_type": "execute_result"
    }
   ],
   "source": [
    "active_terminated_staff = df['EmployeeStatus'].value_counts()\n",
    "active_terminated_staff[['Active','Voluntarily Terminated','Terminated for Cause']]"
   ]
  },
  {
   "cell_type": "code",
   "execution_count": null,
   "id": "897a9e23-fa38-47a6-a96b-13b3f240893f",
   "metadata": {},
   "outputs": [],
   "source": [
    "##What are the top 5 most common job titles?"
   ]
  },
  {
   "cell_type": "code",
   "execution_count": 35,
   "id": "d8e4e34a-36bc-4667-9454-481d96a87113",
   "metadata": {},
   "outputs": [
    {
     "data": {
      "text/plain": [
       "Title\n",
       "Production Technician I     1321\n",
       "Production Technician II     516\n",
       "Area Sales Manager           297\n",
       "Production Manager           154\n",
       "Software Engineer             90\n",
       "Name: count, dtype: int64"
      ]
     },
     "execution_count": 35,
     "metadata": {},
     "output_type": "execute_result"
    }
   ],
   "source": [
    "job_titles = df['Title'].value_counts()\n",
    "job_titles.head(5)"
   ]
  },
  {
   "cell_type": "code",
   "execution_count": null,
   "id": "6ea7485f-82f2-44ac-a9ed-465db50dfcba",
   "metadata": {},
   "outputs": [],
   "source": [
    "## What is the distribution of employees across business units?"
   ]
  },
  {
   "cell_type": "code",
   "execution_count": 37,
   "id": "0e93a94a-5fe2-448c-b3a9-0a3d06629cea",
   "metadata": {},
   "outputs": [
    {
     "data": {
      "text/plain": [
       "BusinessUnit\n",
       "NEL     304\n",
       "SVG     304\n",
       "BPC     303\n",
       "EW      302\n",
       "PL      301\n",
       "CCDR    300\n",
       "PYZ     299\n",
       "TNS     297\n",
       "MSC     296\n",
       "WBL     294\n",
       "Name: count, dtype: int64"
      ]
     },
     "execution_count": 37,
     "metadata": {},
     "output_type": "execute_result"
    }
   ],
   "source": [
    "df['BusinessUnit'].value_counts()"
   ]
  },
  {
   "cell_type": "code",
   "execution_count": null,
   "id": "b5472595-7046-4e85-817b-e29f64ec5417",
   "metadata": {},
   "outputs": [],
   "source": [
    "##How many employees were hired each year?"
   ]
  },
  {
   "cell_type": "code",
   "execution_count": 39,
   "id": "a7d67646-11cc-47f5-a0bd-609e21b79712",
   "metadata": {},
   "outputs": [
    {
     "data": {
      "text/html": [
       "<div>\n",
       "<style scoped>\n",
       "    .dataframe tbody tr th:only-of-type {\n",
       "        vertical-align: middle;\n",
       "    }\n",
       "\n",
       "    .dataframe tbody tr th {\n",
       "        vertical-align: top;\n",
       "    }\n",
       "\n",
       "    .dataframe thead th {\n",
       "        text-align: right;\n",
       "    }\n",
       "</style>\n",
       "<table border=\"1\" class=\"dataframe\">\n",
       "  <thead>\n",
       "    <tr style=\"text-align: right;\">\n",
       "      <th></th>\n",
       "      <th>EmpID</th>\n",
       "      <th>FirstName</th>\n",
       "      <th>LastName</th>\n",
       "      <th>StartDate</th>\n",
       "      <th>ExitDate</th>\n",
       "      <th>Title</th>\n",
       "      <th>Supervisor</th>\n",
       "      <th>ADEmail</th>\n",
       "      <th>BusinessUnit</th>\n",
       "      <th>EmployeeStatus</th>\n",
       "      <th>EmployeeType</th>\n",
       "      <th>PayZone</th>\n",
       "      <th>EmployeeClassificationType</th>\n",
       "      <th>TerminationType</th>\n",
       "      <th>TerminationDescription</th>\n",
       "      <th>DepartmentType</th>\n",
       "      <th>Division</th>\n",
       "      <th>DOB</th>\n",
       "      <th>State</th>\n",
       "      <th>JobFunctionDescription</th>\n",
       "      <th>GenderCode</th>\n",
       "      <th>LocationCode</th>\n",
       "      <th>RaceDesc</th>\n",
       "      <th>MaritalDesc</th>\n",
       "      <th>Performance Score</th>\n",
       "      <th>Current Employee Rating</th>\n",
       "    </tr>\n",
       "  </thead>\n",
       "  <tbody>\n",
       "    <tr>\n",
       "      <th>0</th>\n",
       "      <td>3427</td>\n",
       "      <td>Uriah</td>\n",
       "      <td>Bridges</td>\n",
       "      <td>20-Sep-19</td>\n",
       "      <td>NaN</td>\n",
       "      <td>Production Technician I</td>\n",
       "      <td>Peter Oneill</td>\n",
       "      <td>uriah.bridges@bilearner.com</td>\n",
       "      <td>CCDR</td>\n",
       "      <td>Active</td>\n",
       "      <td>Contract</td>\n",
       "      <td>Zone C</td>\n",
       "      <td>Temporary</td>\n",
       "      <td>Unk</td>\n",
       "      <td>NaN</td>\n",
       "      <td>Production</td>\n",
       "      <td>Finance &amp; Accounting</td>\n",
       "      <td>07-10-1969</td>\n",
       "      <td>MA</td>\n",
       "      <td>Accounting</td>\n",
       "      <td>Female</td>\n",
       "      <td>34904</td>\n",
       "      <td>White</td>\n",
       "      <td>Widowed</td>\n",
       "      <td>Fully Meets</td>\n",
       "      <td>4</td>\n",
       "    </tr>\n",
       "    <tr>\n",
       "      <th>1</th>\n",
       "      <td>3428</td>\n",
       "      <td>Paula</td>\n",
       "      <td>Small</td>\n",
       "      <td>11-Feb-23</td>\n",
       "      <td>NaN</td>\n",
       "      <td>Production Technician I</td>\n",
       "      <td>Renee Mccormick</td>\n",
       "      <td>paula.small@bilearner.com</td>\n",
       "      <td>EW</td>\n",
       "      <td>Active</td>\n",
       "      <td>Contract</td>\n",
       "      <td>Zone A</td>\n",
       "      <td>Part-Time</td>\n",
       "      <td>Unk</td>\n",
       "      <td>NaN</td>\n",
       "      <td>Production</td>\n",
       "      <td>Aerial</td>\n",
       "      <td>30-08-1965</td>\n",
       "      <td>MA</td>\n",
       "      <td>Labor</td>\n",
       "      <td>Male</td>\n",
       "      <td>6593</td>\n",
       "      <td>Hispanic</td>\n",
       "      <td>Widowed</td>\n",
       "      <td>Fully Meets</td>\n",
       "      <td>3</td>\n",
       "    </tr>\n",
       "    <tr>\n",
       "      <th>2</th>\n",
       "      <td>3429</td>\n",
       "      <td>Edward</td>\n",
       "      <td>Buck</td>\n",
       "      <td>10-Dec-18</td>\n",
       "      <td>NaN</td>\n",
       "      <td>Area Sales Manager</td>\n",
       "      <td>Crystal Walker</td>\n",
       "      <td>edward.buck@bilearner.com</td>\n",
       "      <td>PL</td>\n",
       "      <td>Active</td>\n",
       "      <td>Full-Time</td>\n",
       "      <td>Zone B</td>\n",
       "      <td>Part-Time</td>\n",
       "      <td>Unk</td>\n",
       "      <td>NaN</td>\n",
       "      <td>Sales</td>\n",
       "      <td>General - Sga</td>\n",
       "      <td>06-10-1991</td>\n",
       "      <td>MA</td>\n",
       "      <td>Assistant</td>\n",
       "      <td>Male</td>\n",
       "      <td>2330</td>\n",
       "      <td>Hispanic</td>\n",
       "      <td>Widowed</td>\n",
       "      <td>Fully Meets</td>\n",
       "      <td>4</td>\n",
       "    </tr>\n",
       "    <tr>\n",
       "      <th>3</th>\n",
       "      <td>3430</td>\n",
       "      <td>Michael</td>\n",
       "      <td>Riordan</td>\n",
       "      <td>21-Jun-21</td>\n",
       "      <td>NaN</td>\n",
       "      <td>Area Sales Manager</td>\n",
       "      <td>Rebekah Wright</td>\n",
       "      <td>michael.riordan@bilearner.com</td>\n",
       "      <td>CCDR</td>\n",
       "      <td>Active</td>\n",
       "      <td>Contract</td>\n",
       "      <td>Zone A</td>\n",
       "      <td>Full-Time</td>\n",
       "      <td>Unk</td>\n",
       "      <td>NaN</td>\n",
       "      <td>Sales</td>\n",
       "      <td>Finance &amp; Accounting</td>\n",
       "      <td>04-04-1998</td>\n",
       "      <td>ND</td>\n",
       "      <td>Clerk</td>\n",
       "      <td>Male</td>\n",
       "      <td>58782</td>\n",
       "      <td>Other</td>\n",
       "      <td>Single</td>\n",
       "      <td>Fully Meets</td>\n",
       "      <td>2</td>\n",
       "    </tr>\n",
       "    <tr>\n",
       "      <th>4</th>\n",
       "      <td>3431</td>\n",
       "      <td>Jasmine</td>\n",
       "      <td>Onque</td>\n",
       "      <td>29-Jun-19</td>\n",
       "      <td>NaN</td>\n",
       "      <td>Area Sales Manager</td>\n",
       "      <td>Jason Kim</td>\n",
       "      <td>jasmine.onque@bilearner.com</td>\n",
       "      <td>TNS</td>\n",
       "      <td>Active</td>\n",
       "      <td>Contract</td>\n",
       "      <td>Zone A</td>\n",
       "      <td>Temporary</td>\n",
       "      <td>Unk</td>\n",
       "      <td>NaN</td>\n",
       "      <td>Sales</td>\n",
       "      <td>General - Con</td>\n",
       "      <td>29-08-1969</td>\n",
       "      <td>FL</td>\n",
       "      <td>Laborer</td>\n",
       "      <td>Female</td>\n",
       "      <td>33174</td>\n",
       "      <td>Other</td>\n",
       "      <td>Married</td>\n",
       "      <td>Fully Meets</td>\n",
       "      <td>3</td>\n",
       "    </tr>\n",
       "  </tbody>\n",
       "</table>\n",
       "</div>"
      ],
      "text/plain": [
       "   EmpID FirstName LastName  StartDate ExitDate                    Title  \\\n",
       "0   3427     Uriah  Bridges  20-Sep-19      NaN  Production Technician I   \n",
       "1   3428     Paula    Small  11-Feb-23      NaN  Production Technician I   \n",
       "2   3429    Edward     Buck  10-Dec-18      NaN       Area Sales Manager   \n",
       "3   3430   Michael  Riordan  21-Jun-21      NaN       Area Sales Manager   \n",
       "4   3431   Jasmine    Onque  29-Jun-19      NaN       Area Sales Manager   \n",
       "\n",
       "        Supervisor                        ADEmail BusinessUnit EmployeeStatus  \\\n",
       "0     Peter Oneill    uriah.bridges@bilearner.com         CCDR         Active   \n",
       "1  Renee Mccormick      paula.small@bilearner.com           EW         Active   \n",
       "2   Crystal Walker      edward.buck@bilearner.com           PL         Active   \n",
       "3   Rebekah Wright  michael.riordan@bilearner.com         CCDR         Active   \n",
       "4        Jason Kim    jasmine.onque@bilearner.com          TNS         Active   \n",
       "\n",
       "  EmployeeType PayZone EmployeeClassificationType TerminationType  \\\n",
       "0     Contract  Zone C                  Temporary             Unk   \n",
       "1     Contract  Zone A                  Part-Time             Unk   \n",
       "2    Full-Time  Zone B                  Part-Time             Unk   \n",
       "3     Contract  Zone A                  Full-Time             Unk   \n",
       "4     Contract  Zone A                  Temporary             Unk   \n",
       "\n",
       "  TerminationDescription     DepartmentType              Division         DOB  \\\n",
       "0                    NaN  Production         Finance & Accounting  07-10-1969   \n",
       "1                    NaN  Production                       Aerial  30-08-1965   \n",
       "2                    NaN              Sales         General - Sga  06-10-1991   \n",
       "3                    NaN              Sales  Finance & Accounting  04-04-1998   \n",
       "4                    NaN              Sales         General - Con  29-08-1969   \n",
       "\n",
       "  State JobFunctionDescription GenderCode  LocationCode  RaceDesc MaritalDesc  \\\n",
       "0    MA             Accounting     Female         34904     White     Widowed   \n",
       "1    MA                  Labor       Male          6593  Hispanic     Widowed   \n",
       "2    MA              Assistant       Male          2330  Hispanic     Widowed   \n",
       "3    ND                  Clerk       Male         58782     Other      Single   \n",
       "4    FL                Laborer     Female         33174     Other     Married   \n",
       "\n",
       "  Performance Score  Current Employee Rating  \n",
       "0       Fully Meets                        4  \n",
       "1       Fully Meets                        3  \n",
       "2       Fully Meets                        4  \n",
       "3       Fully Meets                        2  \n",
       "4       Fully Meets                        3  "
      ]
     },
     "execution_count": 39,
     "metadata": {},
     "output_type": "execute_result"
    }
   ],
   "source": [
    "df.head()"
   ]
  },
  {
   "cell_type": "code",
   "execution_count": 41,
   "id": "0bfae740-0ca7-4bea-b313-3d8f5903de58",
   "metadata": {},
   "outputs": [
    {
     "name": "stderr",
     "output_type": "stream",
     "text": [
      "C:\\Users\\LENOVO\\AppData\\Local\\Temp\\ipykernel_11992\\3149657643.py:1: UserWarning: Could not infer format, so each element will be parsed individually, falling back to `dateutil`. To ensure parsing is consistent and as-expected, please specify a format.\n",
      "  df['StartDate'] = pd.to_datetime(df['StartDate'], dayfirst = True)\n"
     ]
    }
   ],
   "source": [
    "df['StartDate'] = pd.to_datetime(df['StartDate'], dayfirst = True)\n",
    "df['Startyear'] = df['StartDate'].dt.year"
   ]
  },
  {
   "cell_type": "code",
   "execution_count": 45,
   "id": "1f6a0904-7caa-4ca8-9e79-a099b61c955d",
   "metadata": {},
   "outputs": [
    {
     "data": {
      "text/plain": [
       "Startyear\n",
       "2018    255\n",
       "2019    598\n",
       "2020    592\n",
       "2021    600\n",
       "2022    620\n",
       "2023    335\n",
       "Name: EmpID, dtype: int64"
      ]
     },
     "execution_count": 45,
     "metadata": {},
     "output_type": "execute_result"
    }
   ],
   "source": [
    "df.groupby('Startyear')[\"EmpID\"].count()\t"
   ]
  },
  {
   "cell_type": "code",
   "execution_count": 53,
   "id": "6f51edef-ed6a-4949-908b-b05dfd8b7824",
   "metadata": {},
   "outputs": [],
   "source": [
    "##What is the average \"Current Employee Rating\" per department or division?"
   ]
  },
  {
   "cell_type": "code",
   "execution_count": 55,
   "id": "2f9bea2e-be89-4671-b8b3-af5f6323bb56",
   "metadata": {},
   "outputs": [
    {
     "data": {
      "text/html": [
       "<div>\n",
       "<style scoped>\n",
       "    .dataframe tbody tr th:only-of-type {\n",
       "        vertical-align: middle;\n",
       "    }\n",
       "\n",
       "    .dataframe tbody tr th {\n",
       "        vertical-align: top;\n",
       "    }\n",
       "\n",
       "    .dataframe thead th {\n",
       "        text-align: right;\n",
       "    }\n",
       "</style>\n",
       "<table border=\"1\" class=\"dataframe\">\n",
       "  <thead>\n",
       "    <tr style=\"text-align: right;\">\n",
       "      <th></th>\n",
       "      <th>DepartmentType</th>\n",
       "      <th>Division</th>\n",
       "      <th>Current Employee Rating</th>\n",
       "    </tr>\n",
       "  </thead>\n",
       "  <tbody>\n",
       "    <tr>\n",
       "      <th>0</th>\n",
       "      <td>Admin Offices</td>\n",
       "      <td>Aerial</td>\n",
       "      <td>3.000000</td>\n",
       "    </tr>\n",
       "    <tr>\n",
       "      <th>1</th>\n",
       "      <td>Admin Offices</td>\n",
       "      <td>Catv</td>\n",
       "      <td>3.000000</td>\n",
       "    </tr>\n",
       "    <tr>\n",
       "      <th>2</th>\n",
       "      <td>Admin Offices</td>\n",
       "      <td>Engineers</td>\n",
       "      <td>3.000000</td>\n",
       "    </tr>\n",
       "    <tr>\n",
       "      <th>3</th>\n",
       "      <td>Admin Offices</td>\n",
       "      <td>Executive</td>\n",
       "      <td>3.000000</td>\n",
       "    </tr>\n",
       "    <tr>\n",
       "      <th>4</th>\n",
       "      <td>Admin Offices</td>\n",
       "      <td>Field Operations</td>\n",
       "      <td>3.086957</td>\n",
       "    </tr>\n",
       "    <tr>\n",
       "      <th>...</th>\n",
       "      <td>...</td>\n",
       "      <td>...</td>\n",
       "      <td>...</td>\n",
       "    </tr>\n",
       "    <tr>\n",
       "      <th>116</th>\n",
       "      <td>Software Engineering</td>\n",
       "      <td>Splicing</td>\n",
       "      <td>3.500000</td>\n",
       "    </tr>\n",
       "    <tr>\n",
       "      <th>117</th>\n",
       "      <td>Software Engineering</td>\n",
       "      <td>Underground</td>\n",
       "      <td>2.500000</td>\n",
       "    </tr>\n",
       "    <tr>\n",
       "      <th>118</th>\n",
       "      <td>Software Engineering</td>\n",
       "      <td>Wireless</td>\n",
       "      <td>3.500000</td>\n",
       "    </tr>\n",
       "    <tr>\n",
       "      <th>119</th>\n",
       "      <td>Software Engineering</td>\n",
       "      <td>Wireline Construction</td>\n",
       "      <td>2.800000</td>\n",
       "    </tr>\n",
       "    <tr>\n",
       "      <th>120</th>\n",
       "      <td>Software Engineering</td>\n",
       "      <td>Yard (Material Handling)</td>\n",
       "      <td>2.000000</td>\n",
       "    </tr>\n",
       "  </tbody>\n",
       "</table>\n",
       "<p>121 rows × 3 columns</p>\n",
       "</div>"
      ],
      "text/plain": [
       "           DepartmentType                  Division  Current Employee Rating\n",
       "0           Admin Offices                    Aerial                 3.000000\n",
       "1           Admin Offices                      Catv                 3.000000\n",
       "2           Admin Offices                 Engineers                 3.000000\n",
       "3           Admin Offices                 Executive                 3.000000\n",
       "4           Admin Offices          Field Operations                 3.086957\n",
       "..                    ...                       ...                      ...\n",
       "116  Software Engineering                  Splicing                 3.500000\n",
       "117  Software Engineering               Underground                 2.500000\n",
       "118  Software Engineering                  Wireless                 3.500000\n",
       "119  Software Engineering     Wireline Construction                 2.800000\n",
       "120  Software Engineering  Yard (Material Handling)                 2.000000\n",
       "\n",
       "[121 rows x 3 columns]"
      ]
     },
     "execution_count": 55,
     "metadata": {},
     "output_type": "execute_result"
    }
   ],
   "source": [
    "df.groupby([\"DepartmentType\",\"Division\"])[\"Current Employee Rating\"].mean().reset_index()"
   ]
  },
  {
   "cell_type": "code",
   "execution_count": null,
   "id": "bca1b98b-a1db-4645-86e0-7dc16340cb92",
   "metadata": {},
   "outputs": [],
   "source": [
    "##Which job titles have the highest average performance scores?"
   ]
  },
  {
   "cell_type": "code",
   "execution_count": 61,
   "id": "4b66b314-b767-4080-b117-aee0568d0e4a",
   "metadata": {},
   "outputs": [
    {
     "data": {
      "text/plain": [
       "'IT Manager - Infra'"
      ]
     },
     "execution_count": 61,
     "metadata": {},
     "output_type": "execute_result"
    }
   ],
   "source": [
    "df.groupby(\"Title\")[\"Current Employee Rating\"].mean().idxmax()"
   ]
  },
  {
   "cell_type": "code",
   "execution_count": null,
   "id": "1567647b-855d-4af2-a103-b9aba33ca77b",
   "metadata": {},
   "outputs": [],
   "source": [
    "##Is there a relationship between performance score and employee status (active vs terminated)?"
   ]
  },
  {
   "cell_type": "code",
   "execution_count": 73,
   "id": "f9b7cac3-5457-4549-96fa-efa01590114c",
   "metadata": {},
   "outputs": [
    {
     "data": {
      "text/html": [
       "<div>\n",
       "<style scoped>\n",
       "    .dataframe tbody tr th:only-of-type {\n",
       "        vertical-align: middle;\n",
       "    }\n",
       "\n",
       "    .dataframe tbody tr th {\n",
       "        vertical-align: top;\n",
       "    }\n",
       "\n",
       "    .dataframe thead th {\n",
       "        text-align: right;\n",
       "    }\n",
       "</style>\n",
       "<table border=\"1\" class=\"dataframe\">\n",
       "  <thead>\n",
       "    <tr style=\"text-align: right;\">\n",
       "      <th></th>\n",
       "      <th>EmpID</th>\n",
       "      <th>FirstName</th>\n",
       "      <th>LastName</th>\n",
       "      <th>StartDate</th>\n",
       "      <th>ExitDate</th>\n",
       "      <th>Title</th>\n",
       "      <th>Supervisor</th>\n",
       "      <th>ADEmail</th>\n",
       "      <th>BusinessUnit</th>\n",
       "      <th>EmployeeStatus</th>\n",
       "      <th>EmployeeType</th>\n",
       "      <th>PayZone</th>\n",
       "      <th>EmployeeClassificationType</th>\n",
       "      <th>TerminationType</th>\n",
       "      <th>TerminationDescription</th>\n",
       "      <th>DepartmentType</th>\n",
       "      <th>Division</th>\n",
       "      <th>DOB</th>\n",
       "      <th>State</th>\n",
       "      <th>JobFunctionDescription</th>\n",
       "      <th>GenderCode</th>\n",
       "      <th>LocationCode</th>\n",
       "      <th>RaceDesc</th>\n",
       "      <th>MaritalDesc</th>\n",
       "      <th>Performance Score</th>\n",
       "      <th>Current Employee Rating</th>\n",
       "      <th>Startyear</th>\n",
       "    </tr>\n",
       "  </thead>\n",
       "  <tbody>\n",
       "    <tr>\n",
       "      <th>0</th>\n",
       "      <td>3427</td>\n",
       "      <td>Uriah</td>\n",
       "      <td>Bridges</td>\n",
       "      <td>2019-09-20</td>\n",
       "      <td>NaN</td>\n",
       "      <td>Production Technician I</td>\n",
       "      <td>Peter Oneill</td>\n",
       "      <td>uriah.bridges@bilearner.com</td>\n",
       "      <td>CCDR</td>\n",
       "      <td>Active</td>\n",
       "      <td>Contract</td>\n",
       "      <td>Zone C</td>\n",
       "      <td>Temporary</td>\n",
       "      <td>Unk</td>\n",
       "      <td>NaN</td>\n",
       "      <td>Production</td>\n",
       "      <td>Finance &amp; Accounting</td>\n",
       "      <td>07-10-1969</td>\n",
       "      <td>MA</td>\n",
       "      <td>Accounting</td>\n",
       "      <td>Female</td>\n",
       "      <td>34904</td>\n",
       "      <td>White</td>\n",
       "      <td>Widowed</td>\n",
       "      <td>Fully Meets</td>\n",
       "      <td>4</td>\n",
       "      <td>2019</td>\n",
       "    </tr>\n",
       "    <tr>\n",
       "      <th>1</th>\n",
       "      <td>3428</td>\n",
       "      <td>Paula</td>\n",
       "      <td>Small</td>\n",
       "      <td>2023-02-11</td>\n",
       "      <td>NaN</td>\n",
       "      <td>Production Technician I</td>\n",
       "      <td>Renee Mccormick</td>\n",
       "      <td>paula.small@bilearner.com</td>\n",
       "      <td>EW</td>\n",
       "      <td>Active</td>\n",
       "      <td>Contract</td>\n",
       "      <td>Zone A</td>\n",
       "      <td>Part-Time</td>\n",
       "      <td>Unk</td>\n",
       "      <td>NaN</td>\n",
       "      <td>Production</td>\n",
       "      <td>Aerial</td>\n",
       "      <td>30-08-1965</td>\n",
       "      <td>MA</td>\n",
       "      <td>Labor</td>\n",
       "      <td>Male</td>\n",
       "      <td>6593</td>\n",
       "      <td>Hispanic</td>\n",
       "      <td>Widowed</td>\n",
       "      <td>Fully Meets</td>\n",
       "      <td>3</td>\n",
       "      <td>2023</td>\n",
       "    </tr>\n",
       "    <tr>\n",
       "      <th>2</th>\n",
       "      <td>3429</td>\n",
       "      <td>Edward</td>\n",
       "      <td>Buck</td>\n",
       "      <td>2018-12-10</td>\n",
       "      <td>NaN</td>\n",
       "      <td>Area Sales Manager</td>\n",
       "      <td>Crystal Walker</td>\n",
       "      <td>edward.buck@bilearner.com</td>\n",
       "      <td>PL</td>\n",
       "      <td>Active</td>\n",
       "      <td>Full-Time</td>\n",
       "      <td>Zone B</td>\n",
       "      <td>Part-Time</td>\n",
       "      <td>Unk</td>\n",
       "      <td>NaN</td>\n",
       "      <td>Sales</td>\n",
       "      <td>General - Sga</td>\n",
       "      <td>06-10-1991</td>\n",
       "      <td>MA</td>\n",
       "      <td>Assistant</td>\n",
       "      <td>Male</td>\n",
       "      <td>2330</td>\n",
       "      <td>Hispanic</td>\n",
       "      <td>Widowed</td>\n",
       "      <td>Fully Meets</td>\n",
       "      <td>4</td>\n",
       "      <td>2018</td>\n",
       "    </tr>\n",
       "    <tr>\n",
       "      <th>3</th>\n",
       "      <td>3430</td>\n",
       "      <td>Michael</td>\n",
       "      <td>Riordan</td>\n",
       "      <td>2021-06-21</td>\n",
       "      <td>NaN</td>\n",
       "      <td>Area Sales Manager</td>\n",
       "      <td>Rebekah Wright</td>\n",
       "      <td>michael.riordan@bilearner.com</td>\n",
       "      <td>CCDR</td>\n",
       "      <td>Active</td>\n",
       "      <td>Contract</td>\n",
       "      <td>Zone A</td>\n",
       "      <td>Full-Time</td>\n",
       "      <td>Unk</td>\n",
       "      <td>NaN</td>\n",
       "      <td>Sales</td>\n",
       "      <td>Finance &amp; Accounting</td>\n",
       "      <td>04-04-1998</td>\n",
       "      <td>ND</td>\n",
       "      <td>Clerk</td>\n",
       "      <td>Male</td>\n",
       "      <td>58782</td>\n",
       "      <td>Other</td>\n",
       "      <td>Single</td>\n",
       "      <td>Fully Meets</td>\n",
       "      <td>2</td>\n",
       "      <td>2021</td>\n",
       "    </tr>\n",
       "    <tr>\n",
       "      <th>4</th>\n",
       "      <td>3431</td>\n",
       "      <td>Jasmine</td>\n",
       "      <td>Onque</td>\n",
       "      <td>2019-06-29</td>\n",
       "      <td>NaN</td>\n",
       "      <td>Area Sales Manager</td>\n",
       "      <td>Jason Kim</td>\n",
       "      <td>jasmine.onque@bilearner.com</td>\n",
       "      <td>TNS</td>\n",
       "      <td>Active</td>\n",
       "      <td>Contract</td>\n",
       "      <td>Zone A</td>\n",
       "      <td>Temporary</td>\n",
       "      <td>Unk</td>\n",
       "      <td>NaN</td>\n",
       "      <td>Sales</td>\n",
       "      <td>General - Con</td>\n",
       "      <td>29-08-1969</td>\n",
       "      <td>FL</td>\n",
       "      <td>Laborer</td>\n",
       "      <td>Female</td>\n",
       "      <td>33174</td>\n",
       "      <td>Other</td>\n",
       "      <td>Married</td>\n",
       "      <td>Fully Meets</td>\n",
       "      <td>3</td>\n",
       "      <td>2019</td>\n",
       "    </tr>\n",
       "  </tbody>\n",
       "</table>\n",
       "</div>"
      ],
      "text/plain": [
       "   EmpID FirstName LastName  StartDate ExitDate                    Title  \\\n",
       "0   3427     Uriah  Bridges 2019-09-20      NaN  Production Technician I   \n",
       "1   3428     Paula    Small 2023-02-11      NaN  Production Technician I   \n",
       "2   3429    Edward     Buck 2018-12-10      NaN       Area Sales Manager   \n",
       "3   3430   Michael  Riordan 2021-06-21      NaN       Area Sales Manager   \n",
       "4   3431   Jasmine    Onque 2019-06-29      NaN       Area Sales Manager   \n",
       "\n",
       "        Supervisor                        ADEmail BusinessUnit EmployeeStatus  \\\n",
       "0     Peter Oneill    uriah.bridges@bilearner.com         CCDR         Active   \n",
       "1  Renee Mccormick      paula.small@bilearner.com           EW         Active   \n",
       "2   Crystal Walker      edward.buck@bilearner.com           PL         Active   \n",
       "3   Rebekah Wright  michael.riordan@bilearner.com         CCDR         Active   \n",
       "4        Jason Kim    jasmine.onque@bilearner.com          TNS         Active   \n",
       "\n",
       "  EmployeeType PayZone EmployeeClassificationType TerminationType  \\\n",
       "0     Contract  Zone C                  Temporary             Unk   \n",
       "1     Contract  Zone A                  Part-Time             Unk   \n",
       "2    Full-Time  Zone B                  Part-Time             Unk   \n",
       "3     Contract  Zone A                  Full-Time             Unk   \n",
       "4     Contract  Zone A                  Temporary             Unk   \n",
       "\n",
       "  TerminationDescription     DepartmentType              Division         DOB  \\\n",
       "0                    NaN  Production         Finance & Accounting  07-10-1969   \n",
       "1                    NaN  Production                       Aerial  30-08-1965   \n",
       "2                    NaN              Sales         General - Sga  06-10-1991   \n",
       "3                    NaN              Sales  Finance & Accounting  04-04-1998   \n",
       "4                    NaN              Sales         General - Con  29-08-1969   \n",
       "\n",
       "  State JobFunctionDescription GenderCode  LocationCode  RaceDesc MaritalDesc  \\\n",
       "0    MA             Accounting     Female         34904     White     Widowed   \n",
       "1    MA                  Labor       Male          6593  Hispanic     Widowed   \n",
       "2    MA              Assistant       Male          2330  Hispanic     Widowed   \n",
       "3    ND                  Clerk       Male         58782     Other      Single   \n",
       "4    FL                Laborer     Female         33174     Other     Married   \n",
       "\n",
       "  Performance Score  Current Employee Rating  Startyear  \n",
       "0       Fully Meets                        4       2019  \n",
       "1       Fully Meets                        3       2023  \n",
       "2       Fully Meets                        4       2018  \n",
       "3       Fully Meets                        2       2021  \n",
       "4       Fully Meets                        3       2019  "
      ]
     },
     "execution_count": 73,
     "metadata": {},
     "output_type": "execute_result"
    }
   ],
   "source": [
    "df.head()"
   ]
  },
  {
   "cell_type": "code",
   "execution_count": 75,
   "id": "04f0f278-0f93-4343-8870-e6804c2229d5",
   "metadata": {},
   "outputs": [
    {
     "name": "stdout",
     "output_type": "stream",
     "text": [
      "0.04112391927382328\n"
     ]
    }
   ],
   "source": [
    "correlation = (df['EmployeeStatus'].astype('category').cat.codes.corr(df['Performance Score'].astype('category').cat.codes))\n",
    "print(correlation)"
   ]
  },
  {
   "cell_type": "code",
   "execution_count": null,
   "id": "45946d12-7279-45d8-9e45-4440a4d159cf",
   "metadata": {},
   "outputs": [],
   "source": [
    "##What’s the distribution of performance scores by gender?"
   ]
  },
  {
   "cell_type": "code",
   "execution_count": 89,
   "id": "c5a1cb97-ecc8-46e2-9f0f-0a1068d09ac9",
   "metadata": {},
   "outputs": [
    {
     "data": {
      "text/html": [
       "<div>\n",
       "<style scoped>\n",
       "    .dataframe tbody tr th:only-of-type {\n",
       "        vertical-align: middle;\n",
       "    }\n",
       "\n",
       "    .dataframe tbody tr th {\n",
       "        vertical-align: top;\n",
       "    }\n",
       "\n",
       "    .dataframe thead th {\n",
       "        text-align: right;\n",
       "    }\n",
       "</style>\n",
       "<table border=\"1\" class=\"dataframe\">\n",
       "  <thead>\n",
       "    <tr style=\"text-align: right;\">\n",
       "      <th>Performance Score</th>\n",
       "      <th>Exceeds</th>\n",
       "      <th>Fully Meets</th>\n",
       "      <th>Needs Improvement</th>\n",
       "      <th>PIP</th>\n",
       "    </tr>\n",
       "    <tr>\n",
       "      <th>GenderCode</th>\n",
       "      <th></th>\n",
       "      <th></th>\n",
       "      <th></th>\n",
       "      <th></th>\n",
       "    </tr>\n",
       "  </thead>\n",
       "  <tbody>\n",
       "    <tr>\n",
       "      <th>Female</th>\n",
       "      <td>243</td>\n",
       "      <td>1278</td>\n",
       "      <td>104</td>\n",
       "      <td>57</td>\n",
       "    </tr>\n",
       "    <tr>\n",
       "      <th>Male</th>\n",
       "      <td>126</td>\n",
       "      <td>1083</td>\n",
       "      <td>73</td>\n",
       "      <td>36</td>\n",
       "    </tr>\n",
       "  </tbody>\n",
       "</table>\n",
       "</div>"
      ],
      "text/plain": [
       "Performance Score  Exceeds  Fully Meets  Needs Improvement  PIP\n",
       "GenderCode                                                     \n",
       "Female                 243         1278                104   57\n",
       "Male                   126         1083                 73   36"
      ]
     },
     "execution_count": 89,
     "metadata": {},
     "output_type": "execute_result"
    }
   ],
   "source": [
    "df.groupby('GenderCode')['Performance Score'].value_counts().unstack().fillna(0)"
   ]
  },
  {
   "cell_type": "code",
   "execution_count": null,
   "id": "9895c5c7-6c4d-4f61-9764-e8b70f123b8b",
   "metadata": {},
   "outputs": [],
   "source": [
    "##What is the gender distribution across the company?"
   ]
  },
  {
   "cell_type": "code",
   "execution_count": 91,
   "id": "ce3ef14d-0d92-47d3-a2d8-87de66fdcfa5",
   "metadata": {},
   "outputs": [
    {
     "data": {
      "text/plain": [
       "GenderCode\n",
       "Female    1682\n",
       "Male      1318\n",
       "Name: count, dtype: int64"
      ]
     },
     "execution_count": 91,
     "metadata": {},
     "output_type": "execute_result"
    }
   ],
   "source": [
    "df[\"GenderCode\"].value_counts()"
   ]
  },
  {
   "cell_type": "code",
   "execution_count": null,
   "id": "7974fb40-ce76-40c0-b884-f4229d12b8b4",
   "metadata": {},
   "outputs": [],
   "source": [
    "##What’s the racial breakdown of the workforce?"
   ]
  },
  {
   "cell_type": "code",
   "execution_count": 93,
   "id": "e552bd21-32be-422a-acde-f5acbd3d2ef4",
   "metadata": {},
   "outputs": [
    {
     "data": {
      "text/plain": [
       "RaceDesc\n",
       "Asian       629\n",
       "Black       618\n",
       "White       599\n",
       "Other       582\n",
       "Hispanic    572\n",
       "Name: count, dtype: int64"
      ]
     },
     "execution_count": 93,
     "metadata": {},
     "output_type": "execute_result"
    }
   ],
   "source": [
    "df[\"RaceDesc\"].value_counts()"
   ]
  },
  {
   "cell_type": "code",
   "execution_count": null,
   "id": "b7f076b7-4e1f-40ab-a627-52a2734c6676",
   "metadata": {},
   "outputs": [],
   "source": [
    "##What is the marital status distribution per division?"
   ]
  },
  {
   "cell_type": "code",
   "execution_count": 103,
   "id": "b3370b31-1614-479c-8ccb-e8accf7c702b",
   "metadata": {},
   "outputs": [
    {
     "data": {
      "text/html": [
       "<div>\n",
       "<style scoped>\n",
       "    .dataframe tbody tr th:only-of-type {\n",
       "        vertical-align: middle;\n",
       "    }\n",
       "\n",
       "    .dataframe tbody tr th {\n",
       "        vertical-align: top;\n",
       "    }\n",
       "\n",
       "    .dataframe thead th {\n",
       "        text-align: right;\n",
       "    }\n",
       "</style>\n",
       "<table border=\"1\" class=\"dataframe\">\n",
       "  <thead>\n",
       "    <tr style=\"text-align: right;\">\n",
       "      <th></th>\n",
       "      <th>DepartmentType</th>\n",
       "      <th>MaritalDesc</th>\n",
       "      <th>count</th>\n",
       "    </tr>\n",
       "  </thead>\n",
       "  <tbody>\n",
       "    <tr>\n",
       "      <th>0</th>\n",
       "      <td>Admin Offices</td>\n",
       "      <td>Divorced</td>\n",
       "      <td>25</td>\n",
       "    </tr>\n",
       "    <tr>\n",
       "      <th>1</th>\n",
       "      <td>Admin Offices</td>\n",
       "      <td>Single</td>\n",
       "      <td>22</td>\n",
       "    </tr>\n",
       "    <tr>\n",
       "      <th>2</th>\n",
       "      <td>Admin Offices</td>\n",
       "      <td>Widowed</td>\n",
       "      <td>18</td>\n",
       "    </tr>\n",
       "    <tr>\n",
       "      <th>3</th>\n",
       "      <td>Admin Offices</td>\n",
       "      <td>Married</td>\n",
       "      <td>15</td>\n",
       "    </tr>\n",
       "    <tr>\n",
       "      <th>4</th>\n",
       "      <td>Executive Office</td>\n",
       "      <td>Single</td>\n",
       "      <td>15</td>\n",
       "    </tr>\n",
       "    <tr>\n",
       "      <th>5</th>\n",
       "      <td>Executive Office</td>\n",
       "      <td>Divorced</td>\n",
       "      <td>6</td>\n",
       "    </tr>\n",
       "    <tr>\n",
       "      <th>6</th>\n",
       "      <td>Executive Office</td>\n",
       "      <td>Widowed</td>\n",
       "      <td>2</td>\n",
       "    </tr>\n",
       "    <tr>\n",
       "      <th>7</th>\n",
       "      <td>Executive Office</td>\n",
       "      <td>Married</td>\n",
       "      <td>1</td>\n",
       "    </tr>\n",
       "    <tr>\n",
       "      <th>8</th>\n",
       "      <td>IT/IS</td>\n",
       "      <td>Widowed</td>\n",
       "      <td>119</td>\n",
       "    </tr>\n",
       "    <tr>\n",
       "      <th>9</th>\n",
       "      <td>IT/IS</td>\n",
       "      <td>Single</td>\n",
       "      <td>114</td>\n",
       "    </tr>\n",
       "    <tr>\n",
       "      <th>10</th>\n",
       "      <td>IT/IS</td>\n",
       "      <td>Married</td>\n",
       "      <td>104</td>\n",
       "    </tr>\n",
       "    <tr>\n",
       "      <th>11</th>\n",
       "      <td>IT/IS</td>\n",
       "      <td>Divorced</td>\n",
       "      <td>93</td>\n",
       "    </tr>\n",
       "    <tr>\n",
       "      <th>12</th>\n",
       "      <td>Production</td>\n",
       "      <td>Married</td>\n",
       "      <td>534</td>\n",
       "    </tr>\n",
       "    <tr>\n",
       "      <th>13</th>\n",
       "      <td>Production</td>\n",
       "      <td>Divorced</td>\n",
       "      <td>514</td>\n",
       "    </tr>\n",
       "    <tr>\n",
       "      <th>14</th>\n",
       "      <td>Production</td>\n",
       "      <td>Single</td>\n",
       "      <td>505</td>\n",
       "    </tr>\n",
       "    <tr>\n",
       "      <th>15</th>\n",
       "      <td>Production</td>\n",
       "      <td>Widowed</td>\n",
       "      <td>467</td>\n",
       "    </tr>\n",
       "    <tr>\n",
       "      <th>16</th>\n",
       "      <td>Sales</td>\n",
       "      <td>Married</td>\n",
       "      <td>85</td>\n",
       "    </tr>\n",
       "    <tr>\n",
       "      <th>17</th>\n",
       "      <td>Sales</td>\n",
       "      <td>Single</td>\n",
       "      <td>85</td>\n",
       "    </tr>\n",
       "    <tr>\n",
       "      <th>18</th>\n",
       "      <td>Sales</td>\n",
       "      <td>Widowed</td>\n",
       "      <td>85</td>\n",
       "    </tr>\n",
       "    <tr>\n",
       "      <th>19</th>\n",
       "      <td>Sales</td>\n",
       "      <td>Divorced</td>\n",
       "      <td>76</td>\n",
       "    </tr>\n",
       "    <tr>\n",
       "      <th>20</th>\n",
       "      <td>Software Engineering</td>\n",
       "      <td>Widowed</td>\n",
       "      <td>32</td>\n",
       "    </tr>\n",
       "    <tr>\n",
       "      <th>21</th>\n",
       "      <td>Software Engineering</td>\n",
       "      <td>Single</td>\n",
       "      <td>31</td>\n",
       "    </tr>\n",
       "    <tr>\n",
       "      <th>22</th>\n",
       "      <td>Software Engineering</td>\n",
       "      <td>Divorced</td>\n",
       "      <td>27</td>\n",
       "    </tr>\n",
       "    <tr>\n",
       "      <th>23</th>\n",
       "      <td>Software Engineering</td>\n",
       "      <td>Married</td>\n",
       "      <td>25</td>\n",
       "    </tr>\n",
       "  </tbody>\n",
       "</table>\n",
       "</div>"
      ],
      "text/plain": [
       "          DepartmentType MaritalDesc  count\n",
       "0          Admin Offices    Divorced     25\n",
       "1          Admin Offices      Single     22\n",
       "2          Admin Offices     Widowed     18\n",
       "3          Admin Offices     Married     15\n",
       "4       Executive Office      Single     15\n",
       "5       Executive Office    Divorced      6\n",
       "6       Executive Office     Widowed      2\n",
       "7       Executive Office     Married      1\n",
       "8                  IT/IS     Widowed    119\n",
       "9                  IT/IS      Single    114\n",
       "10                 IT/IS     Married    104\n",
       "11                 IT/IS    Divorced     93\n",
       "12     Production            Married    534\n",
       "13     Production           Divorced    514\n",
       "14     Production             Single    505\n",
       "15     Production            Widowed    467\n",
       "16                 Sales     Married     85\n",
       "17                 Sales      Single     85\n",
       "18                 Sales     Widowed     85\n",
       "19                 Sales    Divorced     76\n",
       "20  Software Engineering     Widowed     32\n",
       "21  Software Engineering      Single     31\n",
       "22  Software Engineering    Divorced     27\n",
       "23  Software Engineering     Married     25"
      ]
     },
     "execution_count": 103,
     "metadata": {},
     "output_type": "execute_result"
    }
   ],
   "source": [
    "df.groupby(\"DepartmentType\")[\"MaritalDesc\"].value_counts().reset_index()"
   ]
  },
  {
   "cell_type": "code",
   "execution_count": null,
   "id": "dfe339eb-4742-468a-9d4d-ffd5f3c10779",
   "metadata": {},
   "outputs": [],
   "source": [
    "##What is the average age of employees (based on DOB)?"
   ]
  },
  {
   "cell_type": "code",
   "execution_count": 127,
   "id": "44ac5855-b335-4d8a-b6e4-4c639f8c6fbc",
   "metadata": {},
   "outputs": [],
   "source": [
    "df[\"DOB\"] = pd.to_datetime(df[\"DOB\"], format='%d-%m-%Y')\n",
    "df[\"Age\"] = (pd.Timestamp.today() - df[\"DOB\"]).dt.days//365"
   ]
  },
  {
   "cell_type": "code",
   "execution_count": 129,
   "id": "9dbe87b0-d8b3-4288-be35-d625ed6b678f",
   "metadata": {},
   "outputs": [
    {
     "data": {
      "text/plain": [
       "53.11333333333334"
      ]
     },
     "execution_count": 129,
     "metadata": {},
     "output_type": "execute_result"
    }
   ],
   "source": [
    "df['Age'].mean()"
   ]
  },
  {
   "cell_type": "code",
   "execution_count": 131,
   "id": "fe6bb42b-7159-4b44-bb11-1cc3ed13a3f7",
   "metadata": {},
   "outputs": [],
   "source": [
    "##Which departments/divisions have the highest number of employees?"
   ]
  },
  {
   "cell_type": "code",
   "execution_count": 177,
   "id": "69c13fdd-38e1-45df-8da5-22a7111e8052",
   "metadata": {},
   "outputs": [],
   "source": [
    "department_division = df.groupby(\"DepartmentType\")[\"Division\"].value_counts()\n",
    "department_division_max = department_division.groupby('DepartmentType').idxmax()"
   ]
  },
  {
   "cell_type": "code",
   "execution_count": 179,
   "id": "5ec45f55-143b-48d9-bf37-083b884f795e",
   "metadata": {},
   "outputs": [
    {
     "data": {
      "text/plain": [
       "DepartmentType\n",
       "Admin Offices                  (Admin Offices, Field Operations)\n",
       "Executive Office            (Executive Office, Field Operations)\n",
       "IT/IS                                  (IT/IS, Field Operations)\n",
       "Production                 (Production       , Field Operations)\n",
       "Sales                                  (Sales, Field Operations)\n",
       "Software Engineering    (Software Engineering, Field Operations)\n",
       "Name: count, dtype: object"
      ]
     },
     "execution_count": 179,
     "metadata": {},
     "output_type": "execute_result"
    }
   ],
   "source": [
    "department_division_max"
   ]
  },
  {
   "cell_type": "code",
   "execution_count": 183,
   "id": "f25ea687-1d85-4b3a-be94-588aeaa0db8a",
   "metadata": {},
   "outputs": [],
   "source": [
    "##Which departments show the highest employee ratings?"
   ]
  },
  {
   "cell_type": "code",
   "execution_count": 187,
   "id": "3f881e31-4d8f-48b9-b159-3af462d60c42",
   "metadata": {},
   "outputs": [
    {
     "data": {
      "text/plain": [
       "'Admin Offices'"
      ]
     },
     "execution_count": 187,
     "metadata": {},
     "output_type": "execute_result"
    }
   ],
   "source": [
    "df.groupby('DepartmentType')['Current Employee Rating'].mean().idxmax()"
   ]
  },
  {
   "cell_type": "code",
   "execution_count": null,
   "id": "542c09a2-6358-4946-ac42-bbdbb7d9e7fe",
   "metadata": {},
   "outputs": [],
   "source": [
    "##Are there any departments dominated by one gender or race?"
   ]
  },
  {
   "cell_type": "code",
   "execution_count": 195,
   "id": "a163bbe5-8dd0-40fc-ac80-2bac8250b291",
   "metadata": {},
   "outputs": [
    {
     "data": {
      "text/plain": [
       "DepartmentType\n",
       "Admin Offices                (Admin Offices, Female)\n",
       "Executive Office            (Executive Office, Male)\n",
       "IT/IS                                  (IT/IS, Male)\n",
       "Production               (Production       , Female)\n",
       "Sales                                  (Sales, Male)\n",
       "Software Engineering    (Software Engineering, Male)\n",
       "Name: count, dtype: object"
      ]
     },
     "execution_count": 195,
     "metadata": {},
     "output_type": "execute_result"
    }
   ],
   "source": [
    "gender_domination  = df.groupby(\"DepartmentType\")['GenderCode'].value_counts()\n",
    "gender_domination_max = gender_domination.groupby(\"DepartmentType\").idxmax()\n",
    "gender_domination_max"
   ]
  },
  {
   "cell_type": "code",
   "execution_count": 197,
   "id": "5879e8ac-999f-4686-90ef-90102dc48464",
   "metadata": {},
   "outputs": [
    {
     "data": {
      "text/plain": [
       "DepartmentType\n",
       "Admin Offices                  (Admin Offices, Black)\n",
       "Executive Office            (Executive Office, Other)\n",
       "IT/IS                               (IT/IS, Hispanic)\n",
       "Production                 (Production       , Asian)\n",
       "Sales                                  (Sales, Asian)\n",
       "Software Engineering    (Software Engineering, White)\n",
       "Name: count, dtype: object"
      ]
     },
     "execution_count": 197,
     "metadata": {},
     "output_type": "execute_result"
    }
   ],
   "source": [
    "race_domination = df.groupby(\"DepartmentType\")['RaceDesc'].value_counts()\n",
    "race_domination_max = race_domination.groupby(\"DepartmentType\").idxmax()\n",
    "race_domination_max"
   ]
  },
  {
   "cell_type": "code",
   "execution_count": 199,
   "id": "8d847394-e26b-4f0f-bc13-e87d1f0cca85",
   "metadata": {},
   "outputs": [],
   "source": [
    "##What’s the breakdown of job function descriptions within each business unit?"
   ]
  },
  {
   "cell_type": "code",
   "execution_count": 203,
   "id": "eeecd135-a8b5-42f0-899d-3bb84faf6d75",
   "metadata": {},
   "outputs": [
    {
     "data": {
      "text/html": [
       "<div>\n",
       "<style scoped>\n",
       "    .dataframe tbody tr th:only-of-type {\n",
       "        vertical-align: middle;\n",
       "    }\n",
       "\n",
       "    .dataframe tbody tr th {\n",
       "        vertical-align: top;\n",
       "    }\n",
       "\n",
       "    .dataframe thead th {\n",
       "        text-align: right;\n",
       "    }\n",
       "</style>\n",
       "<table border=\"1\" class=\"dataframe\">\n",
       "  <thead>\n",
       "    <tr style=\"text-align: right;\">\n",
       "      <th></th>\n",
       "      <th>BusinessUnit</th>\n",
       "      <th>JobFunctionDescription</th>\n",
       "      <th>count</th>\n",
       "    </tr>\n",
       "  </thead>\n",
       "  <tbody>\n",
       "    <tr>\n",
       "      <th>0</th>\n",
       "      <td>BPC</td>\n",
       "      <td>Laborer</td>\n",
       "      <td>49</td>\n",
       "    </tr>\n",
       "    <tr>\n",
       "      <th>1</th>\n",
       "      <td>BPC</td>\n",
       "      <td>Engineer</td>\n",
       "      <td>41</td>\n",
       "    </tr>\n",
       "    <tr>\n",
       "      <th>2</th>\n",
       "      <td>BPC</td>\n",
       "      <td>Technician</td>\n",
       "      <td>28</td>\n",
       "    </tr>\n",
       "    <tr>\n",
       "      <th>3</th>\n",
       "      <td>BPC</td>\n",
       "      <td>Foreman</td>\n",
       "      <td>24</td>\n",
       "    </tr>\n",
       "    <tr>\n",
       "      <th>4</th>\n",
       "      <td>BPC</td>\n",
       "      <td>Lineman</td>\n",
       "      <td>16</td>\n",
       "    </tr>\n",
       "    <tr>\n",
       "      <th>...</th>\n",
       "      <td>...</td>\n",
       "      <td>...</td>\n",
       "      <td>...</td>\n",
       "    </tr>\n",
       "    <tr>\n",
       "      <th>440</th>\n",
       "      <td>WBL</td>\n",
       "      <td>Program Manager</td>\n",
       "      <td>1</td>\n",
       "    </tr>\n",
       "    <tr>\n",
       "      <th>441</th>\n",
       "      <td>WBL</td>\n",
       "      <td>Runner</td>\n",
       "      <td>1</td>\n",
       "    </tr>\n",
       "    <tr>\n",
       "      <th>442</th>\n",
       "      <td>WBL</td>\n",
       "      <td>Shop</td>\n",
       "      <td>1</td>\n",
       "    </tr>\n",
       "    <tr>\n",
       "      <th>443</th>\n",
       "      <td>WBL</td>\n",
       "      <td>Tower Hand</td>\n",
       "      <td>1</td>\n",
       "    </tr>\n",
       "    <tr>\n",
       "      <th>444</th>\n",
       "      <td>WBL</td>\n",
       "      <td>Welder</td>\n",
       "      <td>1</td>\n",
       "    </tr>\n",
       "  </tbody>\n",
       "</table>\n",
       "<p>445 rows × 3 columns</p>\n",
       "</div>"
      ],
      "text/plain": [
       "    BusinessUnit JobFunctionDescription  count\n",
       "0            BPC                Laborer     49\n",
       "1            BPC               Engineer     41\n",
       "2            BPC             Technician     28\n",
       "3            BPC                Foreman     24\n",
       "4            BPC                Lineman     16\n",
       "..           ...                    ...    ...\n",
       "440          WBL        Program Manager      1\n",
       "441          WBL                 Runner      1\n",
       "442          WBL                   Shop      1\n",
       "443          WBL             Tower Hand      1\n",
       "444          WBL                 Welder      1\n",
       "\n",
       "[445 rows x 3 columns]"
      ]
     },
     "execution_count": 203,
     "metadata": {},
     "output_type": "execute_result"
    }
   ],
   "source": [
    "df.groupby('BusinessUnit')['JobFunctionDescription'].value_counts().reset_index()"
   ]
  },
  {
   "cell_type": "code",
   "execution_count": null,
   "id": "d5bc98af-710c-4a97-8810-6b72fde5692d",
   "metadata": {},
   "outputs": [],
   "source": [
    "##Which states have the highest number of employees?"
   ]
  },
  {
   "cell_type": "code",
   "execution_count": 211,
   "id": "4351c2d4-d67a-4e34-b770-259aa1871ef4",
   "metadata": {},
   "outputs": [
    {
     "data": {
      "text/plain": [
       "State\n",
       "MA    2651\n",
       "TX      52\n",
       "CT      40\n",
       "AZ      31\n",
       "ID      31\n",
       "Name: EmpID, dtype: int64"
      ]
     },
     "execution_count": 211,
     "metadata": {},
     "output_type": "execute_result"
    }
   ],
   "source": [
    "df.groupby(\"State\")[\"EmpID\"].count().sort_values(ascending = False).head(5)"
   ]
  },
  {
   "cell_type": "code",
   "execution_count": null,
   "id": "1f826a05-c2bc-4258-9163-d1c9aac19ff9",
   "metadata": {},
   "outputs": [],
   "source": [
    "##Is there a difference in performance score or rating across different states or location codes?"
   ]
  },
  {
   "cell_type": "code",
   "execution_count": 221,
   "id": "dc26011b-9f6d-437f-9f9d-74e25f6925b9",
   "metadata": {},
   "outputs": [
    {
     "data": {
      "text/plain": [
       "State\n",
       "AL    2.727273\n",
       "AZ    3.000000\n",
       "CA    2.600000\n",
       "CO    3.041667\n",
       "CT    3.100000\n",
       "FL    3.000000\n",
       "GA    2.333333\n",
       "ID    3.032258\n",
       "IN    2.500000\n",
       "KY    2.925926\n",
       "MA    2.976235\n",
       "ME    3.000000\n",
       "MT    1.000000\n",
       "NC    3.200000\n",
       "ND    1.500000\n",
       "NH    2.000000\n",
       "NV    4.000000\n",
       "NY    3.363636\n",
       "OH    1.000000\n",
       "OR    2.444444\n",
       "PA    3.000000\n",
       "RI    3.250000\n",
       "TN    2.916667\n",
       "TX    2.826923\n",
       "UT    3.000000\n",
       "VA    4.500000\n",
       "VT    3.500000\n",
       "WA    2.900000\n",
       "Name: Current Employee Rating, dtype: float64"
      ]
     },
     "execution_count": 221,
     "metadata": {},
     "output_type": "execute_result"
    }
   ],
   "source": [
    "performance_rating_across_states = df.groupby(\"State\")[\"Current Employee Rating\"].mean()\n",
    "performance_rating_across_states"
   ]
  },
  {
   "cell_type": "code",
   "execution_count": 219,
   "id": "982fa867-ef5f-4f6e-96d5-c4dc8217f2d7",
   "metadata": {},
   "outputs": [
    {
     "data": {
      "text/plain": [
       "LocationCode\n",
       "1013     2.0\n",
       "1015     2.0\n",
       "1040     3.0\n",
       "1043     3.0\n",
       "1057     2.0\n",
       "        ... \n",
       "97893    2.0\n",
       "97933    5.0\n",
       "97969    3.0\n",
       "97985    4.0\n",
       "98052    2.0\n",
       "Name: Current Employee Rating, Length: 2821, dtype: float64"
      ]
     },
     "execution_count": 219,
     "metadata": {},
     "output_type": "execute_result"
    }
   ],
   "source": [
    "performance_rating_across_LocationCode = df.groupby(\"LocationCode\")[\"Current Employee Rating\"].mean()\n",
    "performance_rating_across_LocationCode"
   ]
  },
  {
   "cell_type": "code",
   "execution_count": null,
   "id": "7436706b-8648-4cea-9701-eeb212f85c4a",
   "metadata": {},
   "outputs": [],
   "source": []
  },
  {
   "cell_type": "code",
   "execution_count": null,
   "id": "f0e00236-6281-4432-a340-9baddebeca14",
   "metadata": {},
   "outputs": [],
   "source": []
  },
  {
   "cell_type": "code",
   "execution_count": null,
   "id": "632fc76a-af7f-4ffe-97d9-45ac8c4e7dd0",
   "metadata": {},
   "outputs": [],
   "source": []
  },
  {
   "cell_type": "code",
   "execution_count": null,
   "id": "5e197d05-7047-41d0-9399-89d1179ed741",
   "metadata": {},
   "outputs": [],
   "source": []
  },
  {
   "cell_type": "code",
   "execution_count": null,
   "id": "f7cecdce-dd2a-4fc7-80f8-807b1d57e8fd",
   "metadata": {},
   "outputs": [],
   "source": []
  },
  {
   "cell_type": "code",
   "execution_count": null,
   "id": "c3bdc25a-c210-4625-8342-8e65ac85ea98",
   "metadata": {},
   "outputs": [],
   "source": []
  },
  {
   "cell_type": "code",
   "execution_count": null,
   "id": "213a9144-9860-487e-962d-191c18a8a174",
   "metadata": {},
   "outputs": [],
   "source": []
  },
  {
   "cell_type": "code",
   "execution_count": null,
   "id": "3fc24577-98a4-40b6-804d-d4e71e365333",
   "metadata": {},
   "outputs": [],
   "source": []
  }
 ],
 "metadata": {
  "kernelspec": {
   "display_name": "Python 3 (ipykernel)",
   "language": "python",
   "name": "python3"
  },
  "language_info": {
   "codemirror_mode": {
    "name": "ipython",
    "version": 3
   },
   "file_extension": ".py",
   "mimetype": "text/x-python",
   "name": "python",
   "nbconvert_exporter": "python",
   "pygments_lexer": "ipython3",
   "version": "3.12.4"
  }
 },
 "nbformat": 4,
 "nbformat_minor": 5
}
